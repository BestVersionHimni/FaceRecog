{
 "cells": [
  {
   "cell_type": "code",
   "execution_count": null,
   "metadata": {},
   "outputs": [],
   "source": []
  },
  {
   "cell_type": "code",
   "execution_count": 1,
   "metadata": {},
   "outputs": [],
   "source": [
    "# Import the necessary modules\n",
    "from selenium import webdriver\n",
    "from selenium.webdriver.chrome.service import Service\n",
    "from selenium.webdriver.chrome.options import Options\n",
    "from webdriver_manager.chrome import ChromeDriverManager\n",
    "from selenium.webdriver.common.by import By"
   ]
  },
  {
   "cell_type": "code",
   "execution_count": 2,
   "metadata": {},
   "outputs": [],
   "source": [
    "chrome_options = Options()\n",
    "chrome_options.add_argument(\"user-data-dir=C:\\\\Users\\\\Aleksandr\\\\AppData\\\\Local\\\\Google\\\\Chrome\\\\User Data\")\n",
    "chrome_options.add_argument(\"profile-directory=Profile 3\")\n",
    "chrome_options.add_argument(\"--lang=en-US\")\n",
    "chrome_options.add_experimental_option(\"detach\",True)"
   ]
  },
  {
   "cell_type": "code",
   "execution_count": 3,
   "metadata": {},
   "outputs": [],
   "source": [
    "PATH = r\"C:\\\\Users\\\\Aleksandr\\\\Desktop\\\\download photos\\\\chromedriver-win64\\\\chromedriver-win64\\\\chromedriver.exe\"\n",
    "driver_service = Service(executable_path=PATH)#\n",
    "driver = webdriver.Chrome(service=driver_service, options=chrome_options)"
   ]
  },
  {
   "cell_type": "code",
   "execution_count": 4,
   "metadata": {},
   "outputs": [],
   "source": [
    "# Open a website\n",
    "driver.get(\"https://vk.com/album8422501_232695931\")"
   ]
  },
  {
   "cell_type": "code",
   "execution_count": 5,
   "metadata": {},
   "outputs": [],
   "source": [
    "src = []\n",
    "n=1"
   ]
  },
  {
   "cell_type": "code",
   "execution_count": 10,
   "metadata": {},
   "outputs": [],
   "source": [
    "import sys\n",
    "\n",
    "\n",
    "urls = driver.find_elements(By.CSS_SELECTOR, \".PhotosPagePhotoGridVirtualItem-module__img--Qdmgl\")\n",
    "\n",
    "last_height = driver.execute_script(\"return document.body.scrollHeight\")\n",
    "current_height = driver.execute_script(\"return window.pageYOffset + window.innerHeight\")\n",
    "\n",
    "while last_height - current_height > 300:\n",
    "\n",
    "    urls = driver.find_elements(By.CSS_SELECTOR, \".PhotosPagePhotoGridVirtualItem-module__img--Qdmgl\")\n",
    "    for element in urls:\n",
    "        src.append(element.get_attribute(\"src\"))\n",
    "\n",
    "\n",
    "    driver.execute_script(\"window.scrollBy(0, 1000);\")\n",
    "    current_height = driver.execute_script(\"return window.pageYOffset + window.innerHeight\")\n",
    "    last_height = driver.execute_script(\"return document.body.scrollHeight\")"
   ]
  },
  {
   "cell_type": "code",
   "execution_count": 9,
   "metadata": {},
   "outputs": [
    {
     "name": "stdout",
     "output_type": "stream",
     "text": [
      "10500 10432\n"
     ]
    }
   ],
   "source": [
    "print(last_height,current_height)"
   ]
  },
  {
   "cell_type": "code",
   "execution_count": 142,
   "metadata": {},
   "outputs": [],
   "source": [
    "duplicates = src\n",
    "unique_urls = list(set(duplicates))"
   ]
  },
  {
   "cell_type": "code",
   "execution_count": 143,
   "metadata": {},
   "outputs": [
    {
     "data": {
      "text/plain": [
       "(1546, 171)"
      ]
     },
     "execution_count": 143,
     "metadata": {},
     "output_type": "execute_result"
    }
   ],
   "source": [
    "len(src), len(unique_urls)"
   ]
  },
  {
   "cell_type": "code",
   "execution_count": null,
   "metadata": {},
   "outputs": [],
   "source": []
  },
  {
   "cell_type": "code",
   "execution_count": 39,
   "metadata": {},
   "outputs": [],
   "source": [
    "import requests\n",
    "import os\n",
    "\n",
    "# The URL of the image\n",
    "directory = '13Oct2012'\n",
    "name_prefix = '13Oct2012-'\n",
    "\n",
    "os.makedirs(directory, exist_ok=True)\n",
    "\n",
    "# Download each image\n",
    "for n, image_url in enumerate(unique_urls):\n",
    "    # Send a GET request to the image URL\n",
    "    \n",
    "    response = requests.get(image_url)\n",
    "\n",
    "    # Check if the request was successful\n",
    "    if response.status_code == 200:\n",
    "        # Define the file path using the index\n",
    "        file_path = os.path.join(directory, f'{name_prefix}{n}.jpg')\n",
    "        \n",
    "        # Open a file in binary write mode\n",
    "        with open(file_path, 'wb') as file:\n",
    "            # Write the content of the response (i.e., the image) to the file\n",
    "            file.write(response.content)\n",
    "       # print(f'Image {n} successfully downloaded and saved as {file_path}')\n",
    "    else:\n",
    "        print(f'Failed to retrieve image {n}. Status code: {response.status_code}')"
   ]
  },
  {
   "cell_type": "code",
   "execution_count": null,
   "metadata": {},
   "outputs": [],
   "source": []
  }
 ],
 "metadata": {
  "kernelspec": {
   "display_name": "Python 3",
   "language": "python",
   "name": "python3"
  },
  "language_info": {
   "codemirror_mode": {
    "name": "ipython",
    "version": 3
   },
   "file_extension": ".py",
   "mimetype": "text/x-python",
   "name": "python",
   "nbconvert_exporter": "python",
   "pygments_lexer": "ipython3",
   "version": "3.12.1"
  }
 },
 "nbformat": 4,
 "nbformat_minor": 2
}
