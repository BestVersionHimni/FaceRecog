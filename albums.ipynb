{
 "cells": [
  {
   "cell_type": "code",
   "execution_count": 1,
   "metadata": {},
   "outputs": [],
   "source": [
    "# Import the necessary modules\n",
    "from selenium import webdriver\n",
    "from selenium.webdriver.chrome.service import Service\n",
    "from selenium.webdriver.chrome.options import Options\n",
    "from webdriver_manager.chrome import ChromeDriverManager\n",
    "from selenium.webdriver.common.by import By"
   ]
  },
  {
   "cell_type": "code",
   "execution_count": 2,
   "metadata": {},
   "outputs": [],
   "source": [
    "chrome_options = Options()\n",
    "chrome_options.add_argument(\"user-data-dir=C:\\\\Users\\\\Aleksandr\\\\AppData\\\\Local\\\\Google\\\\Chrome\\\\User Data\")\n",
    "chrome_options.add_argument(\"profile-directory=Profile 3\")\n",
    "chrome_options.add_argument(\"--lang=en-US\")\n",
    "chrome_options.add_experimental_option(\"detach\",True)"
   ]
  },
  {
   "cell_type": "code",
   "execution_count": 3,
   "metadata": {},
   "outputs": [],
   "source": [
    "PATH = r\"C:\\\\Users\\\\Aleksandr\\\\Desktop\\\\download photos\\\\chromedriver-win64\\\\chromedriver-win64\\\\chromedriver.exe\"\n",
    "driver_service = Service(executable_path=PATH)#\n",
    "driver = webdriver.Chrome(service=driver_service, options=chrome_options)"
   ]
  },
  {
   "cell_type": "code",
   "execution_count": 4,
   "metadata": {},
   "outputs": [],
   "source": [
    "\n",
    "import requests\n",
    "import os\n",
    "\n",
    "with open(\"dic_album.txt\", \"r\", encoding=\"utf-8\") as file:\n",
    "    text = file.readline().split(\";\")\n",
    "\n",
    "album_dic = [element.strip(\"[]\").split(\", \") for element in text]\n",
    "album_dic = [[item.strip(\"''\") for item in sublist] for sublist in album_dic]\n",
    "\n"
   ]
  },
  {
   "cell_type": "code",
   "execution_count": 5,
   "metadata": {},
   "outputs": [
    {
     "data": {
      "text/plain": [
       "'https://vk.com/album8422501_265270418'"
      ]
     },
     "execution_count": 5,
     "metadata": {},
     "output_type": "execute_result"
    }
   ],
   "source": [
    "album_dic[0][0]"
   ]
  },
  {
   "cell_type": "code",
   "execution_count": 6,
   "metadata": {},
   "outputs": [],
   "source": [
    "\n",
    "driver.get(album_dic[0][0])"
   ]
  },
  {
   "cell_type": "code",
   "execution_count": 16,
   "metadata": {},
   "outputs": [],
   "source": [
    "photos = driver.find_elements(By.CSS_SELECTOR,\".vkuiDiv a\")\n",
    "photos[0].click()"
   ]
  },
  {
   "cell_type": "code",
   "execution_count": 26,
   "metadata": {},
   "outputs": [],
   "source": [
    "ru_months = {\n",
    "    'янв': 'Jan',\n",
    "    'фев': 'Feb',\n",
    "    'мар': 'Mar',\n",
    "    'апр': 'Apr',\n",
    "    'май': 'May',\n",
    "    'июн': 'Jun',\n",
    "    'июл': 'Jul',\n",
    "    'авг': 'Aug',\n",
    "    'сен': 'Sep',\n",
    "    'окт': 'Oct',\n",
    "    'ноя': 'Nov',\n",
    "    'дек': 'Dec'\n",
    "}"
   ]
  },
  {
   "cell_type": "code",
   "execution_count": 27,
   "metadata": {},
   "outputs": [],
   "source": [
    "date_use = driver.find_element(By.CSS_SELECTOR, \".rel_date\").text.split(\" \")\n",
    "\n",
    "date_use[1] = ru_months[date_use[1]]\n",
    "\n"
   ]
  },
  {
   "cell_type": "code",
   "execution_count": 28,
   "metadata": {},
   "outputs": [
    {
     "name": "stdout",
     "output_type": "stream",
     "text": [
      "['2', 'Aug', '2019']\n"
     ]
    }
   ],
   "source": [
    "print(date_use)"
   ]
  },
  {
   "cell_type": "code",
   "execution_count": 1,
   "metadata": {},
   "outputs": [
    {
     "ename": "NameError",
     "evalue": "name 'album_dic' is not defined",
     "output_type": "error",
     "traceback": [
      "\u001b[1;31m---------------------------------------------------------------------------\u001b[0m",
      "\u001b[1;31mNameError\u001b[0m                                 Traceback (most recent call last)",
      "Cell \u001b[1;32mIn[1], line 1\u001b[0m\n\u001b[1;32m----> 1\u001b[0m \u001b[43malbum_dic\u001b[49m[\u001b[38;5;241m0\u001b[39m]\n",
      "\u001b[1;31mNameError\u001b[0m: name 'album_dic' is not defined"
     ]
    }
   ],
   "source": [
    "album_dic[0]"
   ]
  },
  {
   "cell_type": "code",
   "execution_count": null,
   "metadata": {},
   "outputs": [],
   "source": []
  },
  {
   "cell_type": "code",
   "execution_count": null,
   "metadata": {},
   "outputs": [],
   "source": [
    "\n",
    "    # Download each image\n",
    "for n, image_url in enumerate(unique_urls):\n",
    "        # Send a GET request to the image URL\n",
    "        \n",
    "        response = requests.get(image_url)\n",
    "\n",
    "        # Check if the request was successful\n",
    "        if response.status_code == 200:\n",
    "            # Define the file path using the index\n",
    "            file_path = os.path.join(directory, f'{name_prefix}{n}.jpg')\n",
    "            \n",
    "            # Open a file in binary write mode\n",
    "            with open(file_path, 'wb') as file:\n",
    "                # Write the content of the response (i.e., the image) to the file\n",
    "                file.write(response.content)\n",
    "        # print(f'Image {n} successfully downloaded and saved as {file_path}')\n",
    "        else:\n",
    "            print(f'Failed to retrieve image {n}. Status code: {response.status_code}')    "
   ]
  }
 ],
 "metadata": {
  "kernelspec": {
   "display_name": "Python 3",
   "language": "python",
   "name": "python3"
  },
  "language_info": {
   "codemirror_mode": {
    "name": "ipython",
    "version": 3
   },
   "file_extension": ".py",
   "mimetype": "text/x-python",
   "name": "python",
   "nbconvert_exporter": "python",
   "pygments_lexer": "ipython3",
   "version": "3.12.1"
  }
 },
 "nbformat": 4,
 "nbformat_minor": 2
}
